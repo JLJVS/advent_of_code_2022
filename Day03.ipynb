{
 "cells": [
  {
   "cell_type": "markdown",
   "id": "1bacee59",
   "metadata": {},
   "source": [
    "--- Day 3: Rucksack Reorganization ---\n",
    "\n",
    "One Elf has the important job of loading all of the rucksacks with supplies for the jungle journey. Unfortunately, that Elf didn't quite follow the packing instructions, and so a few items now need to be rearranged.\n",
    "\n",
    "Each rucksack has two large compartments. All items of a given type are meant to go into exactly one of the two compartments. The Elf that did the packing failed to follow this rule for exactly one item type per rucksack.\n",
    "\n",
    "The Elves have made a list of all of the items currently in each rucksack (your puzzle input), but they need your help finding the errors. Every item type is identified by a single lowercase or uppercase letter (that is, a and A refer to different types of items).\n",
    "\n",
    "The list of items for each rucksack is given as characters all on a single line. A given rucksack always has the same number of items in each of its two compartments, so the first half of the characters represent items in the first compartment, while the second half of the characters represent items in the second compartment.\n",
    "\n",
    "For example, suppose you have the following list of contents from six rucksacks:\n",
    "\n",
    "vJrwpWtwJgWrhcsFMMfFFhFp\n",
    "jqHRNqRjqzjGDLGLrsFMfFZSrLrFZsSL\n",
    "PmmdzqPrVvPwwTWBwg\n",
    "wMqvLMZHhHMvwLHjbvcjnnSBnvTQFn\n",
    "ttgJtRGJQctTZtZT\n",
    "CrZsJsPPZsGzwwsLwLmpwMDw\n",
    "\n",
    "    The first rucksack contains the items vJrwpWtwJgWrhcsFMMfFFhFp, which means its first compartment contains the items vJrwpWtwJgWr, while the second compartment contains the items hcsFMMfFFhFp. The only item type that appears in both compartments is lowercase p.\n",
    "    The second rucksack's compartments contain jqHRNqRjqzjGDLGL and rsFMfFZSrLrFZsSL. The only item type that appears in both compartments is uppercase L.\n",
    "    The third rucksack's compartments contain PmmdzqPrV and vPwwTWBwg; the only common item type is uppercase P.\n",
    "    The fourth rucksack's compartments only share item type v.\n",
    "    The fifth rucksack's compartments only share item type t.\n",
    "    The sixth rucksack's compartments only share item type s.\n",
    "\n",
    "To help prioritize item rearrangement, every item type can be converted to a priority:\n",
    "\n",
    "    Lowercase item types a through z have priorities 1 through 26.\n",
    "    Uppercase item types A through Z have priorities 27 through 52.\n",
    "\n",
    "In the above example, the priority of the item type that appears in both compartments of each rucksack is 16 (p), 38 (L), 42 (P), 22 (v), 20 (t), and 19 (s); the sum of these is 157.\n",
    "\n",
    "Find the item type that appears in both compartments of each rucksack. What is the sum of the priorities of those item types?\n"
   ]
  },
  {
   "cell_type": "code",
   "execution_count": 13,
   "id": "0e827d44",
   "metadata": {},
   "outputs": [
    {
     "name": "stdout",
     "output_type": "stream",
     "text": [
      "The sum of priorties is 7793.\n"
     ]
    },
    {
     "data": {
      "text/plain": [
       "7793"
      ]
     },
     "execution_count": 13,
     "metadata": {},
     "output_type": "execute_result"
    }
   ],
   "source": [
    "def inputWrangler(filepath):\n",
    "    '''\n",
    "    Reads the file for day 03\n",
    "    '''\n",
    "    \n",
    "    with open(filepath, 'r') as f:\n",
    "        lines = f.readlines()\n",
    "        \n",
    "        return lines\n",
    "\n",
    "def day03a(filepath):\n",
    "    '''\n",
    "    The function splits the items in every rucksack and determines which item is in both compartements.\n",
    "    It returns the priority score of all items (int).\n",
    "    '''\n",
    "    \n",
    "    #read the input\n",
    "    rucksacks = inputWrangler(filepath)\n",
    "    #keep track of the item in both compartments\n",
    "    inBoth = []\n",
    "    #keep track of the total score\n",
    "    total = 0\n",
    "    for rucksack in rucksacks:\n",
    "        #determine where the compartment split happens\n",
    "        N = len(rucksack)\n",
    "        half = N//2\n",
    "        #create sets of both items and determine the intersection\n",
    "        comp1 = set(rucksack[:half])\n",
    "        comp2 = set(rucksack[half:])\n",
    "        intersect = comp1.intersection(comp2)\n",
    "        letter = intersect.pop()\n",
    "        #determine the score by using the ordinal value\n",
    "        score = ord(letter)\n",
    "        #Adjust the ascii value to the values used for priority\n",
    "        if score > 91:\n",
    "            score -= 96\n",
    "        else:\n",
    "            score -= 38\n",
    "        total += score\n",
    "        inBoth.append(letter)\n",
    "    print(f\"The sum of priorties is {total}.\")\n",
    "    return total\n",
    "\n",
    "\n",
    "filepath = 'input03.txt'\n",
    "day03a(filepath)"
   ]
  },
  {
   "cell_type": "markdown",
   "id": "26cf0603",
   "metadata": {},
   "source": [
    "--- Part Two ---\n",
    "\n",
    "As you finish identifying the misplaced items, the Elves come to you with another issue.\n",
    "\n",
    "For safety, the Elves are divided into groups of three. Every Elf carries a badge that identifies their group. For efficiency, within each group of three Elves, the badge is the only item type carried by all three Elves. That is, if a group's badge is item type B, then all three Elves will have item type B somewhere in their rucksack, and at most two of the Elves will be carrying any other item type.\n",
    "\n",
    "The problem is that someone forgot to put this year's updated authenticity sticker on the badges. All of the badges need to be pulled out of the rucksacks so the new authenticity stickers can be attached.\n",
    "\n",
    "Additionally, nobody wrote down which item type corresponds to each group's badges. The only way to tell which item type is the right one is by finding the one item type that is common between all three Elves in each group.\n",
    "\n",
    "Every set of three lines in your list corresponds to a single group, but each group can have a different badge item type. So, in the above example, the first group's rucksacks are the first three lines:\n",
    "\n",
    "vJrwpWtwJgWrhcsFMMfFFhFp\n",
    "jqHRNqRjqzjGDLGLrsFMfFZSrLrFZsSL\n",
    "PmmdzqPrVvPwwTWBwg\n",
    "\n",
    "And the second group's rucksacks are the next three lines:\n",
    "\n",
    "wMqvLMZHhHMvwLHjbvcjnnSBnvTQFn\n",
    "ttgJtRGJQctTZtZT\n",
    "CrZsJsPPZsGzwwsLwLmpwMDw\n",
    "\n",
    "In the first group, the only item type that appears in all three rucksacks is lowercase r; this must be their badges. In the second group, their badge item type must be Z.\n",
    "\n",
    "Priorities for these items must still be found to organize the sticker attachment efforts: here, they are 18 (r) for the first group and 52 (Z) for the second group. The sum of these is 70.\n",
    "\n",
    "Find the item type that corresponds to the badges of each three-Elf group. What is the sum of the priorities of those item types?\n"
   ]
  },
  {
   "cell_type": "code",
   "execution_count": 14,
   "id": "aa9860e4",
   "metadata": {},
   "outputs": [
    {
     "name": "stdout",
     "output_type": "stream",
     "text": [
      "2499\n"
     ]
    },
    {
     "data": {
      "text/plain": [
       "2499"
      ]
     },
     "execution_count": 14,
     "metadata": {},
     "output_type": "execute_result"
    }
   ],
   "source": [
    "def day03b(filepath):\n",
    "    '''\n",
    "    Determines the badges for every group and calculates the total priority score.\n",
    "    Returns the total priority score.\n",
    "    '''\n",
    "    \n",
    "    rucksacks = inputWrangler(filepath)\n",
    "    #keep track of the item in both compartments\n",
    "    inBoth = []\n",
    "    #keep track of the total score\n",
    "    total = 0\n",
    "    found = [set(i) for i in rucksacks]\n",
    "    badges = []\n",
    "    N = len(rucksacks)//3\n",
    "    for i in range(N):\n",
    "        intersect = found[3*i].intersection(found[3*i+1]).intersection(found[3*i+2])\n",
    "        letter = intersect.pop()\n",
    "        #determine the score by using the ordinal value\n",
    "        score = ord(letter)\n",
    "        if score > 91:\n",
    "            score -= 96\n",
    "        else:\n",
    "            score -= 38\n",
    "        total += score\n",
    "        badges.append(letter)\n",
    "    print(total)\n",
    "    return total\n",
    "\n",
    "\n",
    "filepath = 'input03.txt'\n",
    "day03b(filepath)"
   ]
  },
  {
   "cell_type": "code",
   "execution_count": null,
   "id": "44b8ba0c",
   "metadata": {},
   "outputs": [],
   "source": []
  },
  {
   "cell_type": "code",
   "execution_count": null,
   "id": "705706d8",
   "metadata": {},
   "outputs": [],
   "source": []
  },
  {
   "cell_type": "code",
   "execution_count": null,
   "id": "a97f6bf0",
   "metadata": {},
   "outputs": [],
   "source": []
  },
  {
   "cell_type": "code",
   "execution_count": null,
   "id": "c0f1eda4",
   "metadata": {},
   "outputs": [],
   "source": []
  },
  {
   "cell_type": "code",
   "execution_count": null,
   "id": "1d0a6db3",
   "metadata": {},
   "outputs": [],
   "source": []
  },
  {
   "cell_type": "code",
   "execution_count": null,
   "id": "45ad420b",
   "metadata": {},
   "outputs": [],
   "source": []
  },
  {
   "cell_type": "code",
   "execution_count": null,
   "id": "739eb4aa",
   "metadata": {},
   "outputs": [],
   "source": []
  },
  {
   "cell_type": "code",
   "execution_count": null,
   "id": "04fdfc27",
   "metadata": {},
   "outputs": [],
   "source": []
  },
  {
   "cell_type": "code",
   "execution_count": null,
   "id": "5097e68d",
   "metadata": {},
   "outputs": [],
   "source": []
  }
 ],
 "metadata": {
  "kernelspec": {
   "display_name": "Python 3 (ipykernel)",
   "language": "python",
   "name": "python3"
  },
  "language_info": {
   "codemirror_mode": {
    "name": "ipython",
    "version": 3
   },
   "file_extension": ".py",
   "mimetype": "text/x-python",
   "name": "python",
   "nbconvert_exporter": "python",
   "pygments_lexer": "ipython3",
   "version": "3.8.8"
  }
 },
 "nbformat": 4,
 "nbformat_minor": 5
}
