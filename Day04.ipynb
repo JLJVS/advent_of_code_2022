{
 "cells": [
  {
   "cell_type": "markdown",
   "id": "6b9b8ee3",
   "metadata": {},
   "source": [
    "--- Day 4: Camp Cleanup ---\n",
    "\n",
    "Space needs to be cleared before the last supplies can be unloaded from the ships, and so several Elves have been assigned the job of cleaning up sections of the camp. Every section has a unique ID number, and each Elf is assigned a range of section IDs.\n",
    "\n",
    "However, as some of the Elves compare their section assignments with each other, they've noticed that many of the assignments overlap. To try to quickly find overlaps and reduce duplicated effort, the Elves pair up and make a big list of the section assignments for each pair (your puzzle input).\n",
    "\n",
    "For example, consider the following list of section assignment pairs:\n",
    "\n",
    "2-4,6-8\n",
    "2-3,4-5\n",
    "5-7,7-9\n",
    "2-8,3-7\n",
    "6-6,4-6\n",
    "2-6,4-8\n",
    "\n",
    "For the first few pairs, this list means:\n",
    "\n",
    "    Within the first pair of Elves, the first Elf was assigned sections 2-4 (sections 2, 3, and 4), while the second Elf was assigned sections 6-8 (sections 6, 7, 8).\n",
    "    The Elves in the second pair were each assigned two sections.\n",
    "    The Elves in the third pair were each assigned three sections: one got sections 5, 6, and 7, while the other also got 7, plus 8 and 9.\n",
    "\n",
    "This example list uses single-digit section IDs to make it easier to draw; your actual list might contain larger numbers. Visually, these pairs of section assignments look like this:\n",
    "\n",
    ".234.....  2-4\n",
    ".....678.  6-8\n",
    "\n",
    ".23......  2-3\n",
    "...45....  4-5\n",
    "\n",
    "....567..  5-7\n",
    "......789  7-9\n",
    "\n",
    ".2345678.  2-8\n",
    "..34567..  3-7\n",
    "\n",
    ".....6...  6-6\n",
    "...456...  4-6\n",
    "\n",
    ".23456...  2-6\n",
    "...45678.  4-8\n",
    "\n",
    "Some of the pairs have noticed that one of their assignments fully contains the other. For example, 2-8 fully contains 3-7, and 6-6 is fully contained by 4-6. In pairs where one assignment fully contains the other, one Elf in the pair would be exclusively cleaning sections their partner will already be cleaning, so these seem like the most in need of reconsideration. In this example, there are 2 such pairs.\n",
    "\n",
    "In how many assignment pairs does one range fully contain the other?\n"
   ]
  },
  {
   "cell_type": "code",
   "execution_count": 20,
   "id": "6b383509",
   "metadata": {
    "scrolled": true
   },
   "outputs": [
    {
     "name": "stdout",
     "output_type": "stream",
     "text": [
      "There are 562 assignments are contained in other assignments.\n"
     ]
    }
   ],
   "source": [
    "def inputWrangler(filepath):\n",
    "    '''\n",
    "    Opens the file and splits the pair of assignments on the comma.\n",
    "    Returns a list of assignment pairs.\n",
    "    '''\n",
    "    \n",
    "    with open(filepath, 'r') as f:\n",
    "        lines = f.readlines()\n",
    "    assignments = [i.strip().split(',') for i in lines]    \n",
    "    return assignments\n",
    "\n",
    "\n",
    "def day04a(filepath):\n",
    "    '''\n",
    "    Determines the number of assignments contained in the other assignment pair.\n",
    "    Returns the integer number of contained assignments.\n",
    "    '''\n",
    "    \n",
    "    assignments = inputWrangler(filepath)\n",
    "    #the contained integer is our answer\n",
    "    contained = 0\n",
    "    for assignment in assignments:\n",
    "        ass1 = [int(i) for i in assignment[0].split('-')]\n",
    "        ass2 = [int(i) for i in assignment[1].split('-')] \n",
    "        range1, range2 = [i for i in range(ass1[0], ass1[-1]+1)], [i for i in range(ass2[0], ass2[-1]+1)]\n",
    "        #to be contained the length of the list has to be equal or smaller than the other one.\n",
    "        if len(range1) >= len(range2):\n",
    "            #check if the assignments is contained\n",
    "            if (range1[0] <= range2[0]) and  (range1[-1] >= range2[-1]):\n",
    "                contained += 1\n",
    "        else:\n",
    "            if (range1[0] >= range2[0]) and  (range1[-1] <= range2[-1]):\n",
    "                contained += 1\n",
    "        #print(range1, range2)\n",
    "    print(f\"There are {contained} assignments are contained in other assignments.\")\n",
    "\n",
    "    \n",
    "filepath = 'input04.txt'\n",
    "day04a(filepath)"
   ]
  },
  {
   "cell_type": "markdown",
   "id": "d6544478",
   "metadata": {},
   "source": [
    "--- Part Two ---\n",
    "\n",
    "It seems like there is still quite a bit of duplicate work planned. Instead, the Elves would like to know the number of pairs that overlap at all.\n",
    "\n",
    "In the above example, the first two pairs (2-4,6-8 and 2-3,4-5) don't overlap, while the remaining four pairs (5-7,7-9, 2-8,3-7, 6-6,4-6, and 2-6,4-8) do overlap:\n",
    "\n",
    "    5-7,7-9 overlaps in a single section, 7.\n",
    "    2-8,3-7 overlaps all of the sections 3 through 7.\n",
    "    6-6,4-6 overlaps in a single section, 6.\n",
    "    2-6,4-8 overlaps in sections 4, 5, and 6.\n",
    "\n",
    "So, in this example, the number of overlapping assignment pairs is 4.\n",
    "\n",
    "In how many assignment pairs do the ranges overlap?\n",
    "\n"
   ]
  },
  {
   "cell_type": "code",
   "execution_count": 22,
   "id": "73a00013",
   "metadata": {},
   "outputs": [
    {
     "name": "stdout",
     "output_type": "stream",
     "text": [
      "There are 924 assignments that overlap with the other assignment.\n"
     ]
    }
   ],
   "source": [
    "def day04b(filepath):\n",
    "    '''\n",
    "    Determines the number of assignments which overlap with the other pair.\n",
    "    Returns the integer number of overlap assignments.\n",
    "    ''' \n",
    "    \n",
    "    assignments = inputWrangler(filepath)\n",
    "    contained = 0\n",
    "    for assignment in assignments:\n",
    "        ass1 = [int(i) for i in assignment[0].split('-')]\n",
    "        ass2 = [int(i) for i in assignment[1].split('-')] \n",
    "        range1, range2 = [i for i in range(ass1[0], ass1[-1]+1)], [i for i in range(ass2[0], ass2[-1]+1)]\n",
    "        total = set(range1)\n",
    "        total.update(set(range2))\n",
    "        #print(len(range1)+len(range2), len(total))\n",
    "        if len(range1)+len(range2) != len(total):\n",
    "            contained += 1\n",
    "    print(f\"There are {contained} assignments that overlap with the other assignment.\")\n",
    "    \n",
    "\n",
    "day04b(filepath)"
   ]
  },
  {
   "cell_type": "code",
   "execution_count": null,
   "id": "81dcff65",
   "metadata": {},
   "outputs": [],
   "source": []
  },
  {
   "cell_type": "code",
   "execution_count": null,
   "id": "eb69f04c",
   "metadata": {},
   "outputs": [],
   "source": []
  }
 ],
 "metadata": {
  "kernelspec": {
   "display_name": "Python 3 (ipykernel)",
   "language": "python",
   "name": "python3"
  },
  "language_info": {
   "codemirror_mode": {
    "name": "ipython",
    "version": 3
   },
   "file_extension": ".py",
   "mimetype": "text/x-python",
   "name": "python",
   "nbconvert_exporter": "python",
   "pygments_lexer": "ipython3",
   "version": "3.8.8"
  }
 },
 "nbformat": 4,
 "nbformat_minor": 5
}
