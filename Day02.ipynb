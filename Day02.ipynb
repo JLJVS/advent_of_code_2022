{
 "cells": [
  {
   "cell_type": "markdown",
   "id": "90893e89",
   "metadata": {},
   "source": [
    "--- Day 2: Rock Paper Scissors ---\n",
    "\n",
    "The Elves begin to set up camp on the beach. To decide whose tent gets to be closest to the snack storage, a giant Rock Paper Scissors tournament is already in progress.\n",
    "\n",
    "Rock Paper Scissors is a game between two players. Each game contains many rounds; in each round, the players each simultaneously choose one of Rock, Paper, or Scissors using a hand shape. Then, a winner for that round is selected: Rock defeats Scissors, Scissors defeats Paper, and Paper defeats Rock. If both players choose the same shape, the round instead ends in a draw.\n",
    "\n",
    "Appreciative of your help yesterday, one Elf gives you an encrypted strategy guide (your puzzle input) that they say will be sure to help you win. \"The first column is what your opponent is going to play: A for Rock, B for Paper, and C for Scissors. The second column--\" Suddenly, the Elf is called away to help with someone's tent.\n",
    "\n",
    "The second column, you reason, must be what you should play in response: X for Rock, Y for Paper, and Z for Scissors. Winning every time would be suspicious, so the responses must have been carefully chosen.\n",
    "\n",
    "The winner of the whole tournament is the player with the highest score. Your total score is the sum of your scores for each round. The score for a single round is the score for the shape you selected (1 for Rock, 2 for Paper, and 3 for Scissors) plus the score for the outcome of the round (0 if you lost, 3 if the round was a draw, and 6 if you won).\n",
    "\n",
    "Since you can't be sure if the Elf is trying to help you or trick you, you should calculate the score you would get if you were to follow the strategy guide.\n",
    "\n",
    "For example, suppose you were given the following strategy guide:\n",
    "\n",
    "A Y\n",
    "B X\n",
    "C Z\n",
    "\n",
    "This strategy guide predicts and recommends the following:\n",
    "\n",
    "    In the first round, your opponent will choose Rock (A), and you should choose Paper (Y). This ends in a win for you with a score of 8 (2 because you chose Paper + 6 because you won).\n",
    "    In the second round, your opponent will choose Paper (B), and you should choose Rock (X). This ends in a loss for you with a score of 1 (1 + 0).\n",
    "    The third round is a draw with both players choosing Scissors, giving you a score of 3 + 3 = 6.\n",
    "\n",
    "In this example, if you were to follow the strategy guide, you would get a total score of 15 (8 + 1 + 6).\n",
    "\n",
    "What would your total score be if everything goes exactly according to your strategy guide?\n"
   ]
  },
  {
   "cell_type": "code",
   "execution_count": 10,
   "id": "74b46384",
   "metadata": {},
   "outputs": [
    {
     "name": "stdout",
     "output_type": "stream",
     "text": [
      "By following the strategy guide your score will end up being  8933.\n"
     ]
    },
    {
     "data": {
      "text/plain": [
       "8933"
      ]
     },
     "execution_count": 10,
     "metadata": {},
     "output_type": "execute_result"
    }
   ],
   "source": [
    "def inputWrangler(filepath):\n",
    "    '''\n",
    "    opens and cleans the input to return a list of tuples with (p1 hand, p2 suggestion)\n",
    "    '''\n",
    "    \n",
    "    \n",
    "    with open(filepath, 'r') as f:\n",
    "        lines = f.readlines()\n",
    "    #Remove \\n\n",
    "    lines = [i.strip() for i in lines]\n",
    "    #split the player hands \n",
    "    hands = [i.split(\" \") for i in lines]\n",
    "    return hands\n",
    "\n",
    "\n",
    "def day02a(filepath):\n",
    "    '''\n",
    "    Calculates the score achieved by following the strategy guide based on the rules established in part a.\n",
    "    Rock, Paper, Scissors increase the score by 1, 2, 3 respectively, and a loss, draw and win increase the score by 0, 3, 6.\n",
    "    Returns the integer value score.\n",
    "    '''\n",
    "    \n",
    "    \n",
    "    #read the input\n",
    "    hands = inputWrangler(filepath)\n",
    "    #Convert the inputs to the actual hands\n",
    "    p1Choice = {\"A\": 'Rock', \"B\": \"Paper\", \"C\": \"Scissors\"}\n",
    "    p2Choice = {\"X\": \"Rock\", \"Y\": \"Paper\", \"Z\": \"Scissors\"}\n",
    "    #Create the outcomes\n",
    "    p1Wins = [(\"Paper\", \"Rock\"), (\"Rock\", \"Scissors\"), (\"Scissors\", \"Paper\")]\n",
    "    p2Wins = [(\"Rock\", \"Paper\"), (\"Scissors\", \"Rock\"), (\"Paper\", \"Scissors\")]\n",
    "    draws = [(\"Rock\", \"Rock\"), (\"Scissors\", \"Scissors\"), (\"Paper\", \"Paper\")]\n",
    "    #Our final score\n",
    "    score = 0\n",
    "    for hand in hands:\n",
    "        p1, p2 = p1Choice[hand[0]], p2Choice[hand[1]]\n",
    "        if p2 == \"Rock\":\n",
    "            score += 1\n",
    "        elif p2 == \"Paper\":\n",
    "            score += 2\n",
    "        else:\n",
    "            score += 3\n",
    "        if (p1, p2) in p1Wins:\n",
    "            pass\n",
    "        elif (p1, p2) in draws:\n",
    "            score += 3\n",
    "        else:\n",
    "            score += 6\n",
    "    print(f\"By following the strategy guide your score will end up being  {score}.\")\n",
    "    return score\n",
    "        \n",
    "    \n",
    "    \n",
    "filepath = 'input02.txt'\n",
    "day02a(filepath)"
   ]
  },
  {
   "cell_type": "markdown",
   "id": "6610555e",
   "metadata": {},
   "source": [
    "--- Part Two ---\n",
    "\n",
    "The Elf finishes helping with the tent and sneaks back over to you. \"Anyway, the second column says how the round needs to end: X means you need to lose, Y means you need to end the round in a draw, and Z means you need to win. Good luck!\"\n",
    "\n",
    "The total score is still calculated in the same way, but now you need to figure out what shape to choose so the round ends as indicated. The example above now goes like this:\n",
    "\n",
    "    In the first round, your opponent will choose Rock (A), and you need the round to end in a draw (Y), so you also choose Rock. This gives you a score of 1 + 3 = 4.\n",
    "    In the second round, your opponent will choose Paper (B), and you choose Rock so you lose (X) with a score of 1 + 0 = 1.\n",
    "    In the third round, you will defeat your opponent's Scissors with Rock for a score of 1 + 6 = 7.\n",
    "\n",
    "Now that you're correctly decrypting the ultra top secret strategy guide, you would get a total score of 12.\n",
    "\n",
    "Following the Elf's instructions for the second column, what would your total score be if everything goes exactly according to your strategy guide?\n"
   ]
  },
  {
   "cell_type": "code",
   "execution_count": 14,
   "id": "addeaa98",
   "metadata": {},
   "outputs": [
    {
     "name": "stdout",
     "output_type": "stream",
     "text": [
      "By following the strategy guide your score will end up being  11998.\n"
     ]
    },
    {
     "data": {
      "text/plain": [
       "11998"
      ]
     },
     "execution_count": 14,
     "metadata": {},
     "output_type": "execute_result"
    }
   ],
   "source": [
    "def day02b(filepath):\n",
    "    '''\n",
    "    Calculates the score achieved by following the strategy guide based on the rules established in part a.\n",
    "    Rock, Paper, Scissors increase the score by 1, 2, 3 respectively, and a loss, draw and win increase the score by 0, 3, 6.\n",
    "    Returns the integer value score.\n",
    "    '''\n",
    "    \n",
    "    \n",
    "    #Read the input\n",
    "    hands = inputWrangler(filepath)\n",
    "    #Conver the input to the hand for p1 and the outcome\n",
    "    p1Choice = {\"A\": 'Rock', \"B\": \"Paper\", \"C\": \"Scissors\"}\n",
    "    outcomes = {\"X\": \"Loss\", \"Y\": \"Draw\", \"Z\": \"Scissors\"}\n",
    "    #Create the outcomes\n",
    "    p1Wins = [(\"Paper\", \"Rock\"), (\"Rock\", \"Scissors\"), (\"Scissors\", \"Paper\")]\n",
    "    p2Wins = [(\"Rock\", \"Paper\"), (\"Scissors\", \"Rock\"), (\"Paper\", \"Scissors\")]\n",
    "    draws = [(\"Rock\", \"Rock\"), (\"Scissors\", \"Scissors\"), (\"Paper\", \"Paper\")]\n",
    "    #Our final score\n",
    "    score = 0\n",
    "    #Determine the hand for player 2 based on the desired outcome\n",
    "    for hand in hands:\n",
    "        p1, outcome = p1Choice[hand[0]], outcomes[hand[1]]\n",
    "        if outcome == \"Loss\":\n",
    "            for combo in p1Wins:\n",
    "                if combo[0] == p1:\n",
    "                    p2 = combo[1]\n",
    "        elif outcome == 'Draw':\n",
    "            score += 3\n",
    "            for combo in draws:\n",
    "                if combo[0] == p1:\n",
    "                    p2 = combo[1]\n",
    "        else:\n",
    "            score += 6\n",
    "            for combo in p2Wins:\n",
    "                if combo[0] == p1:\n",
    "                    p2 = combo[1]\n",
    "        if p2 == \"Rock\":\n",
    "            score += 1\n",
    "        elif p2 == \"Paper\":\n",
    "            score += 2\n",
    "        else:\n",
    "            score += 3\n",
    "        \n",
    "    print(f\"By following the strategy guide your score will end up being  {score}.\")\n",
    "    return score\n",
    "        \n",
    "    \n",
    "    \n",
    "filepath = 'input02.txt'\n",
    "day02b(filepath)"
   ]
  },
  {
   "cell_type": "code",
   "execution_count": null,
   "id": "931bb733",
   "metadata": {},
   "outputs": [],
   "source": []
  }
 ],
 "metadata": {
  "kernelspec": {
   "display_name": "Python 3 (ipykernel)",
   "language": "python",
   "name": "python3"
  },
  "language_info": {
   "codemirror_mode": {
    "name": "ipython",
    "version": 3
   },
   "file_extension": ".py",
   "mimetype": "text/x-python",
   "name": "python",
   "nbconvert_exporter": "python",
   "pygments_lexer": "ipython3",
   "version": "3.8.8"
  }
 },
 "nbformat": 4,
 "nbformat_minor": 5
}
