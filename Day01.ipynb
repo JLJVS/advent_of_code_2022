{
 "cells": [
  {
   "cell_type": "markdown",
   "id": "2961a53b",
   "metadata": {},
   "source": [
    "--- Day 1: Calorie Counting ---\n",
    "\n",
    "Santa's reindeer typically eat regular reindeer food, but they need a lot of magical energy to deliver presents on Christmas. For that, their favorite snack is a special type of star fruit that only grows deep in the jungle. The Elves have brought you on their annual expedition to the grove where the fruit grows.\n",
    "\n",
    "To supply enough magical energy, the expedition needs to retrieve a minimum of fifty stars by December 25th. Although the Elves assure you that the grove has plenty of fruit, you decide to grab any fruit you see along the way, just in case.\n",
    "\n",
    "Collect stars by solving puzzles. Two puzzles will be made available on each day in the Advent calendar; the second puzzle is unlocked when you complete the first. Each puzzle grants one star. Good luck!\n",
    "\n",
    "The jungle must be too overgrown and difficult to navigate in vehicles or access from the air; the Elves' expedition traditionally goes on foot. As your boats approach land, the Elves begin taking inventory of their supplies. One important consideration is food - in particular, the number of Calories each Elf is carrying (your puzzle input).\n",
    "\n",
    "The Elves take turns writing down the number of Calories contained by the various meals, snacks, rations, etc. that they've brought with them, one item per line. Each Elf separates their own inventory from the previous Elf's inventory (if any) by a blank line.\n",
    "\n",
    "For example, suppose the Elves finish writing their items' Calories and end up with the following list:\n",
    "\n",
    "1000\n",
    "2000\n",
    "3000\n",
    "\n",
    "4000\n",
    "\n",
    "5000\n",
    "6000\n",
    "\n",
    "7000\n",
    "8000\n",
    "9000\n",
    "\n",
    "10000\n",
    "\n",
    "This list represents the Calories of the food carried by five Elves:\n",
    "\n",
    "    The first Elf is carrying food with 1000, 2000, and 3000 Calories, a total of 6000 Calories.\n",
    "    The second Elf is carrying one food item with 4000 Calories.\n",
    "    The third Elf is carrying food with 5000 and 6000 Calories, a total of 11000 Calories.\n",
    "    The fourth Elf is carrying food with 7000, 8000, and 9000 Calories, a total of 24000 Calories.\n",
    "    The fifth Elf is carrying one food item with 10000 Calories.\n",
    "\n",
    "In case the Elves get hungry and need extra snacks, they need to know which Elf to ask: they'd like to know how many Calories are being carried by the Elf carrying the most Calories. In the example above, this is 24000 (carried by the fourth Elf).\n",
    "\n",
    "Find the Elf carrying the most Calories. How many total Calories is that Elf carrying?\n"
   ]
  },
  {
   "cell_type": "code",
   "execution_count": 3,
   "id": "9df47322",
   "metadata": {},
   "outputs": [
    {
     "name": "stdout",
     "output_type": "stream",
     "text": [
      "['4887\\n', '9307\\n', '8895\\n', '8136\\n', '6292\\n', '10177\\n', '4077\\n', '8228\\n', '\\n', '5533\\n']\n",
      "['4887', '9307', '8895', '8136', '6292', '10177', '4077', '8228', '', '5533']\n",
      "Elf #20 is carrying the most calories with a total of 68802 calories.\n"
     ]
    },
    {
     "data": {
      "text/plain": [
       "68802"
      ]
     },
     "execution_count": 3,
     "metadata": {},
     "output_type": "execute_result"
    }
   ],
   "source": [
    "def inputWrangler(filepath):\n",
    "    '''\n",
    "    Opens and cleans the file at the filepath. It returns a list of numbers per elf\n",
    "    '''\n",
    "    with open(filepath, 'r') as f:\n",
    "        lines = f.readlines()\n",
    "   \n",
    "    elfs = []\n",
    "    elf = []\n",
    "   \n",
    "    for line in lines:\n",
    "        if line != '\\n':\n",
    "            elf.append(int(line))\n",
    "        else:\n",
    "            elfs.append(elf)\n",
    "            elf = []\n",
    "                \n",
    "    return elfs\n",
    "\n",
    "\n",
    "def day01a(filepath):\n",
    "    '''\n",
    "    Finds the elf with the most calories and returns the number of calories\n",
    "    '''\n",
    "    \n",
    "    #read our input with inputWrangler\n",
    "    elfs = inputWrangler(filepath)\n",
    "    \n",
    "    #keep track of the highest total seen and the corresponding elf\n",
    "    highestFound = 0\n",
    "    richestElf= 0\n",
    "    for i, elf in enumerate(elfs):\n",
    "        total = sum(elf)\n",
    "        if total > highestFound:\n",
    "            highestFound = total\n",
    "            richestElf = i\n",
    "    print(f'Elf #{richestElf} is carrying the most calories with a total of {highestFound} calories.')\n",
    "    return highestFound\n",
    "\n",
    "\n",
    "filepath = 'input01.txt'\n",
    "\n",
    "day01a(filepath)"
   ]
  },
  {
   "cell_type": "markdown",
   "id": "39955499",
   "metadata": {},
   "source": [
    "--- Part Two ---\n",
    "\n",
    "By the time you calculate the answer to the Elves' question, they've already realized that the Elf carrying the most Calories of food might eventually run out of snacks.\n",
    "\n",
    "To avoid this unacceptable situation, the Elves would instead like to know the total Calories carried by the top three Elves carrying the most Calories. That way, even if one of those Elves runs out of snacks, they still have two backups.\n",
    "\n",
    "In the example above, the top three Elves are the fourth Elf (with 24000 Calories), then the third Elf (with 11000 Calories), then the fifth Elf (with 10000 Calories). The sum of the Calories carried by these three elves is 45000.\n",
    "\n",
    "Find the top three Elves carrying the most Calories. How many Calories are those Elves carrying in total?\n"
   ]
  },
  {
   "cell_type": "code",
   "execution_count": 8,
   "id": "e1c3a310",
   "metadata": {},
   "outputs": [
    {
     "name": "stdout",
     "output_type": "stream",
     "text": [
      "205370\n"
     ]
    }
   ],
   "source": [
    "def day01b(filepath):\n",
    "    '''\n",
    "    Finds the top three calorie carrying elfs and returns the sum of the calories carried by those three.\n",
    "    '''\n",
    "    \n",
    "    #first we read our input with inputWrangler\n",
    "    elfs = inputWrangler(filepath)\n",
    "    #we sum the number of calories per elf\n",
    "    totals = [sum(i) for i in elfs]\n",
    "    #sort the totals from highest to lowest\n",
    "    totals.sort(reverse=True)\n",
    "    #calcultate the total carried by the top three\n",
    "    ans = sum(totals[:3])\n",
    "    print(f\"The top three elves are carrying a total of {ans} calories.\")\n",
    "    return ans\n",
    "    \n",
    "    \n",
    "day01b(filepath)"
   ]
  },
  {
   "cell_type": "code",
   "execution_count": null,
   "id": "18038b0e",
   "metadata": {},
   "outputs": [],
   "source": []
  },
  {
   "cell_type": "code",
   "execution_count": null,
   "id": "e08a3b44",
   "metadata": {},
   "outputs": [],
   "source": []
  }
 ],
 "metadata": {
  "kernelspec": {
   "display_name": "Python 3 (ipykernel)",
   "language": "python",
   "name": "python3"
  },
  "language_info": {
   "codemirror_mode": {
    "name": "ipython",
    "version": 3
   },
   "file_extension": ".py",
   "mimetype": "text/x-python",
   "name": "python",
   "nbconvert_exporter": "python",
   "pygments_lexer": "ipython3",
   "version": "3.8.8"
  }
 },
 "nbformat": 4,
 "nbformat_minor": 5
}
