{
 "cells": [
  {
   "cell_type": "markdown",
   "id": "9a94d711",
   "metadata": {},
   "source": [
    "--- Day 6: Tuning Trouble ---\n",
    "\n",
    "The preparations are finally complete; you and the Elves leave camp on foot and begin to make your way toward the star fruit grove.\n",
    "\n",
    "As you move through the dense undergrowth, one of the Elves gives you a handheld device. He says that it has many fancy features, but the most important one to set up right now is the communication system.\n",
    "\n",
    "However, because he's heard you have significant experience dealing with signal-based systems, he convinced the other Elves that it would be okay to give you their one malfunctioning device - surely you'll have no problem fixing it.\n",
    "\n",
    "As if inspired by comedic timing, the device emits a few colorful sparks.\n",
    "\n",
    "To be able to communicate with the Elves, the device needs to lock on to their signal. The signal is a series of seemingly-random characters that the device receives one at a time.\n",
    "\n",
    "To fix the communication system, you need to add a subroutine to the device that detects a start-of-packet marker in the datastream. In the protocol being used by the Elves, the start of a packet is indicated by a sequence of four characters that are all different.\n",
    "\n",
    "The device will send your subroutine a datastream buffer (your puzzle input); your subroutine needs to identify the first position where the four most recently received characters were all different. Specifically, it needs to report the number of characters from the beginning of the buffer to the end of the first such four-character marker.\n",
    "\n",
    "For example, suppose you receive the following datastream buffer:\n",
    "\n",
    "mjqjpqmgbljsphdztnvjfqwrcgsmlb\n",
    "\n",
    "After the first three characters (mjq) have been received, there haven't been enough characters received yet to find the marker. The first time a marker could occur is after the fourth character is received, making the most recent four characters mjqj. Because j is repeated, this isn't a marker.\n",
    "\n",
    "The first time a marker appears is after the seventh character arrives. Once it does, the last four characters received are jpqm, which are all different. In this case, your subroutine should report the value 7, because the first start-of-packet marker is complete after 7 characters have been processed.\n",
    "\n",
    "Here are a few more examples:\n",
    "\n",
    "    bvwbjplbgvbhsrlpgdmjqwftvncz: first marker after character 5\n",
    "    nppdvjthqldpwncqszvftbrmjlhg: first marker after character 6\n",
    "    nznrnfrfntjfmvfwmzdfjlvtqnbhcprsg: first marker after character 10\n",
    "    zcfzfwzzqfrljwzlrfnpqdbhtmscgvjw: first marker after character 11\n",
    "\n",
    "How many characters need to be processed before the first start-of-packet marker is detected?\n"
   ]
  },
  {
   "cell_type": "code",
   "execution_count": 2,
   "id": "a70f9fe5",
   "metadata": {},
   "outputs": [
    {
     "name": "stdout",
     "output_type": "stream",
     "text": [
      "The first start-of-packet marker is detected at 1804.\n"
     ]
    },
    {
     "data": {
      "text/plain": [
       "1804"
      ]
     },
     "execution_count": 2,
     "metadata": {},
     "output_type": "execute_result"
    }
   ],
   "source": [
    "def inputWrangler(filepath):\n",
    "    '''\n",
    "    Opens the file and returns the string with our instruction\n",
    "    '''\n",
    "    \n",
    "    with open(filepath, 'r') as f:\n",
    "        lines = f.readlines()\n",
    "        \n",
    "    return lines[0]\n",
    "\n",
    "\n",
    "def day06a(filepath, N=4):\n",
    "    '''\n",
    "    Finds the first start-of-packet marker of length 4 and returns the index at which this occurs.\n",
    "    '''\n",
    "    \n",
    "    lines = inputWrangler(filepath)\n",
    "    #N = 4\n",
    "    letters = [i for i in lines[:N-1]]\n",
    "    #print(letters)\n",
    "    #print(len(lines))\n",
    "    for i , letter in enumerate(lines[N-1:]):\n",
    "        letters.append(letter)\n",
    "        if len(set(letters)) == N:\n",
    "            print(f\"The first start-of-packet marker is detected at {i+N}.\")\n",
    "            return i+ N\n",
    "        else:\n",
    "            letters.pop(0)\n",
    "\n",
    "    \n",
    "filepath = 'input06.txt'\n",
    "day06a(filepath)"
   ]
  },
  {
   "cell_type": "markdown",
   "id": "9f6ee5c1",
   "metadata": {},
   "source": [
    "--- Part Two ---\n",
    "\n",
    "Your device's communication system is correctly detecting packets, but still isn't working. It looks like it also needs to look for messages.\n",
    "\n",
    "A start-of-message marker is just like a start-of-packet marker, except it consists of 14 distinct characters rather than 4.\n",
    "\n",
    "Here are the first positions of start-of-message markers for all of the above examples:\n",
    "\n",
    "    mjqjpqmgbljsphdztnvjfqwrcgsmlb: first marker after character 19\n",
    "    bvwbjplbgvbhsrlpgdmjqwftvncz: first marker after character 23\n",
    "    nppdvjthqldpwncqszvftbrmjlhg: first marker after character 23\n",
    "    nznrnfrfntjfmvfwmzdfjlvtqnbhcprsg: first marker after character 29\n",
    "    zcfzfwzzqfrljwzlrfnpqdbhtmscgvjw: first marker after character 26\n",
    "\n",
    "How many characters need to be processed before the first start-of-message marker is detected?\n"
   ]
  },
  {
   "cell_type": "code",
   "execution_count": 3,
   "id": "cccc1ed4",
   "metadata": {},
   "outputs": [
    {
     "name": "stdout",
     "output_type": "stream",
     "text": [
      "The first start-of-packet marker is detected at 2508.\n"
     ]
    },
    {
     "data": {
      "text/plain": [
       "2508"
      ]
     },
     "execution_count": 3,
     "metadata": {},
     "output_type": "execute_result"
    }
   ],
   "source": [
    "def day06b(filepath, N=14):\n",
    "    '''\n",
    "    Finds the first start-of-packet marker of length 14 and returns the index at which this occurs.\n",
    "    '''\n",
    "    \n",
    "    lines = inputWrangler(filepath)\n",
    "    #N = 14\n",
    "    letters = [i for i in lines[:N-1]]\n",
    "    #print(letters)\n",
    "    #print(len(lines))\n",
    "    for i , letter in enumerate(lines[N-1:]):\n",
    "        letters.append(letter)\n",
    "        if len(set(letters)) == N:\n",
    "            print(f\"The first start-of-packet marker is detected at {i+N}.\")\n",
    "            return i+ N\n",
    "        else:\n",
    "            letters.pop(0)\n",
    "    \n",
    "filepath = 'input06.txt'\n",
    "day06b(filepath)"
   ]
  },
  {
   "cell_type": "code",
   "execution_count": 4,
   "id": "d4a44f88",
   "metadata": {},
   "outputs": [
    {
     "name": "stdout",
     "output_type": "stream",
     "text": [
      "1804\n"
     ]
    }
   ],
   "source": [
    "filepath = 'input06.txt'\n",
    "lines = inputWrangler(filepath)\n",
    "ans = [i for i, val in enumerate(lines[4:]) if len(set(lines[i-4:i]))==4][0]\n",
    "print(ans)"
   ]
  },
  {
   "cell_type": "code",
   "execution_count": null,
   "id": "f52d7675",
   "metadata": {},
   "outputs": [],
   "source": []
  }
 ],
 "metadata": {
  "kernelspec": {
   "display_name": "Python 3 (ipykernel)",
   "language": "python",
   "name": "python3"
  },
  "language_info": {
   "codemirror_mode": {
    "name": "ipython",
    "version": 3
   },
   "file_extension": ".py",
   "mimetype": "text/x-python",
   "name": "python",
   "nbconvert_exporter": "python",
   "pygments_lexer": "ipython3",
   "version": "3.8.8"
  }
 },
 "nbformat": 4,
 "nbformat_minor": 5
}
