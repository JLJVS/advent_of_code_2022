{
 "cells": [
  {
   "cell_type": "markdown",
   "id": "6cce61c4",
   "metadata": {
    "pycharm": {
     "name": "#%% md\n"
    }
   },
   "source": [
    "--- Day 5: Supply Stacks ---\n",
    "\n",
    "The expedition can depart as soon as the final supplies have been unloaded from the ships. Supplies are stored in stacks of marked crates, but because the needed supplies are buried under many other crates, the crates need to be rearranged.\n",
    "\n",
    "The ship has a giant cargo crane capable of moving crates between stacks. To ensure none of the crates get crushed or fall over, the crane operator will rearrange them in a series of carefully-planned steps. After the crates are rearranged, the desired crates will be at the top of each stack.\n",
    "\n",
    "The Elves don't want to interrupt the crane operator during this delicate procedure, but they forgot to ask her which crate will end up where, and they want to be ready to unload them as soon as possible so they can embark.\n",
    "\n",
    "They do, however, have a drawing of the starting stacks of crates and the rearrangement procedure (your puzzle input). For example:\n",
    "\n",
    "    [D]    \n",
    "[N] [C]    \n",
    "[Z] [M] [P]\n",
    " 1   2   3 \n",
    "\n",
    "move 1 from 2 to 1\n",
    "move 3 from 1 to 3\n",
    "move 2 from 2 to 1\n",
    "move 1 from 1 to 2\n",
    "\n",
    "In this example, there are three stacks of crates. Stack 1 contains two crates: crate Z is on the bottom, and crate N is on top. Stack 2 contains three crates; from bottom to top, they are crates M, C, and D. Finally, stack 3 contains a single crate, P.\n",
    "\n",
    "Then, the rearrangement procedure is given. In each step of the procedure, a quantity of crates is moved from one stack to a different stack. In the first step of the above rearrangement procedure, one crate is moved from stack 2 to stack 1, resulting in this configuration:\n",
    "\n",
    "[D]        \n",
    "[N] [C]    \n",
    "[Z] [M] [P]\n",
    " 1   2   3 \n",
    "\n",
    "In the second step, three crates are moved from stack 1 to stack 3. Crates are moved one at a time, so the first crate to be moved (D) ends up below the second and third crates:\n",
    "\n",
    "        [Z]\n",
    "        [N]\n",
    "    [C] [D]\n",
    "    [M] [P]\n",
    " 1   2   3\n",
    "\n",
    "Then, both crates are moved from stack 2 to stack 1. Again, because crates are moved one at a time, crate C ends up below crate M:\n",
    "\n",
    "        [Z]\n",
    "        [N]\n",
    "[M]     [D]\n",
    "[C]     [P]\n",
    " 1   2   3\n",
    "\n",
    "Finally, one crate is moved from stack 1 to stack 2:\n",
    "\n",
    "        [Z]\n",
    "        [N]\n",
    "        [D]\n",
    "[C] [M] [P]\n",
    " 1   2   3\n",
    "\n",
    "The Elves just need to know which crate will end up on top of each stack; in this example, the top crates are C in stack 1, M in stack 2, and Z in stack 3, so you should combine these together and give the Elves the message CMZ.\n",
    "\n",
    "After the rearrangement procedure completes, what crate ends up on top of each stack?\n"
   ]
  },
  {
   "cell_type": "code",
   "execution_count": 27,
   "id": "24bc79e3",
   "metadata": {
    "scrolled": true,
    "pycharm": {
     "name": "#%%\n"
    }
   },
   "outputs": [
    {
     "name": "stdout",
     "output_type": "stream",
     "text": [
      "PTWLTDSJV\n"
     ]
    }
   ],
   "source": [
    "def inputWrangler(filepath):\n",
    "    '''\n",
    "    Opens the file and returns a dictionary with the containers in the stacks and the instructions for the operations.\n",
    "    '''\n",
    "    \n",
    "    with open(filepath, 'r') as f:\n",
    "        lines = f.readlines()\n",
    "        \n",
    "    stacks = dict()\n",
    "    stacks['instructions'] = []\n",
    "    for i in range(1, 10):\n",
    "        stacks[i] = []\n",
    "    \n",
    "    ins = False\n",
    "    for line in lines:\n",
    "        if line == \"\\n\":\n",
    "            ins = True\n",
    "            continue\n",
    "\n",
    "        if ins:\n",
    "            instruction = (int(line.split(\" \")[1]), int(line.split(\" \")[3]), int(line.split(\" \")[-1].strip()))\n",
    "            stacks['instructions'].append(instruction)\n",
    "        else:\n",
    "            for i in range(1, 10):\n",
    "                entry = line[4*(i-1):4*i].strip()\n",
    "                #print(entry)\n",
    "                if len(entry)>1:\n",
    "                    stacks[i].insert(0,entry[1])\n",
    "        \n",
    "    return stacks\n",
    "\n",
    "\n",
    "def day05a(filepath):\n",
    "    '''\n",
    "    \n",
    "    '''\n",
    "    \n",
    "    \n",
    "    stacks = inputWrangler(filepath)\n",
    "    for instruction in stacks['instructions']:\n",
    "        amount, origin, destination = instruction\n",
    "        for i in range(amount):\n",
    "            stacks[destination].append(stacks[origin].pop())\n",
    "        #print(instruction)\n",
    "    ans = [stacks[i][-1] for i in range(1,10)]\n",
    "    print(\"\".join(ans))\n",
    "    #print(lines)\n",
    "    \n",
    "\n",
    "filepath = 'input05.txt'\n",
    "day05a(filepath)"
   ]
  },
  {
   "cell_type": "markdown",
   "id": "b7446c06",
   "metadata": {
    "pycharm": {
     "name": "#%% md\n"
    }
   },
   "source": [
    "--- Part Two ---\n",
    "\n",
    "As you watch the crane operator expertly rearrange the crates, you notice the process isn't following your prediction.\n",
    "\n",
    "Some mud was covering the writing on the side of the crane, and you quickly wipe it away. The crane isn't a CrateMover 9000 - it's a CrateMover 9001.\n",
    "\n",
    "The CrateMover 9001 is notable for many new and exciting features: air conditioning, leather seats, an extra cup holder, and the ability to pick up and move multiple crates at once.\n",
    "\n",
    "Again considering the example above, the crates begin in the same configuration:\n",
    "\n",
    "    [D]    \n",
    "[N] [C]    \n",
    "[Z] [M] [P]\n",
    " 1   2   3 \n",
    "\n",
    "Moving a single crate from stack 2 to stack 1 behaves the same as before:\n",
    "\n",
    "[D]        \n",
    "[N] [C]    \n",
    "[Z] [M] [P]\n",
    " 1   2   3 \n",
    "\n",
    "However, the action of moving three crates from stack 1 to stack 3 means that those three moved crates stay in the same order, resulting in this new configuration:\n",
    "\n",
    "        [D]\n",
    "        [N]\n",
    "    [C] [Z]\n",
    "    [M] [P]\n",
    " 1   2   3\n",
    "\n",
    "Next, as both crates are moved from stack 2 to stack 1, they retain their order as well:\n",
    "\n",
    "        [D]\n",
    "        [N]\n",
    "[C]     [Z]\n",
    "[M]     [P]\n",
    " 1   2   3\n",
    "\n",
    "Finally, a single crate is still moved from stack 1 to stack 2, but now it's crate C that gets moved:\n",
    "\n",
    "        [D]\n",
    "        [N]\n",
    "        [Z]\n",
    "[M] [C] [P]\n",
    " 1   2   3\n",
    "\n",
    "In this example, the CrateMover 9001 has put the crates in a totally different order: MCD.\n",
    "\n",
    "Before the rearrangement process finishes, update your simulation so that the Elves know where they should stand to be ready to unload the final supplies. After the rearrangement procedure completes, what crate ends up on top of each stack?\n"
   ]
  },
  {
   "cell_type": "code",
   "execution_count": 32,
   "id": "d190c531",
   "metadata": {
    "pycharm": {
     "name": "#%%\n"
    }
   },
   "outputs": [
    {
     "name": "stdout",
     "output_type": "stream",
     "text": [
      "WZMFVGGZP\n"
     ]
    }
   ],
   "source": [
    "def day05b(filepath):\n",
    "    '''\n",
    "    \n",
    "    '''\n",
    "    \n",
    "    \n",
    "    stacks = inputWrangler(filepath)\n",
    "    for instruction in stacks['instructions']:\n",
    "        amount, origin, destination = instruction\n",
    "        toMove = []\n",
    "        for i in range(amount):\n",
    "            toMove.insert(0, stacks[origin].pop())\n",
    "        stacks[destination].extend(toMove)\n",
    "        #print(instruction)\n",
    "    #print(stacks)\n",
    "    ans = [stacks[i][-1] for i in range(1,10) if stacks[i]]\n",
    "    print(\"\".join(ans))\n",
    "    #print(lines)\n",
    "    \n",
    "\n",
    "filepath = 'input05.txt'\n",
    "day05b(filepath)"
   ]
  },
  {
   "cell_type": "code",
   "execution_count": null,
   "id": "e07f14e8",
   "metadata": {
    "pycharm": {
     "name": "#%%\n"
    }
   },
   "outputs": [],
   "source": []
  }
 ],
 "metadata": {
  "kernelspec": {
   "display_name": "Python 3 (ipykernel)",
   "language": "python",
   "name": "python3"
  },
  "language_info": {
   "codemirror_mode": {
    "name": "ipython",
    "version": 3
   },
   "file_extension": ".py",
   "mimetype": "text/x-python",
   "name": "python",
   "nbconvert_exporter": "python",
   "pygments_lexer": "ipython3",
   "version": "3.8.8"
  }
 },
 "nbformat": 4,
 "nbformat_minor": 5
}